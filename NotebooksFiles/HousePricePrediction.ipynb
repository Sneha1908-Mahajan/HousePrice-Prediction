{
 "cells": [
  {
   "cell_type": "markdown",
   "id": "a37a864f-cd44-4018-875f-936feb764dfe",
   "metadata": {},
   "source": [
    "#    1)Data Loading"
   ]
  },
  {
   "cell_type": "code",
   "execution_count": 2,
   "id": "f543472e-fe92-4608-9937-d8cf7af386b1",
   "metadata": {},
   "outputs": [],
   "source": [
    "import pandas as pd\n",
    "import numpy as np\n",
    "import matplotlib.pyplot as plt\n",
    "import seaborn as sns\n",
    "from sklearn.feature_extraction import DictVectorizer\n",
    "from sklearn.preprocessing import RobustScaler\n",
    "from sklearn.model_selection import train_test_split\n",
    "from sklearn.linear_model import LinearRegression, Ridge, Lasso\n",
    "from sklearn.ensemble import RandomForestRegressor, GradientBoostingRegressor\n",
    "from sklearn.svm import SVR\n",
    "from sklearn.model_selection import cross_val_score\n",
    "from sklearn.metrics import mean_squared_error, r2_score"
   ]
  },
  {
   "cell_type": "code",
   "execution_count": 3,
   "id": "db64d260-8fba-4b77-a888-0c17506fc9f1",
   "metadata": {},
   "outputs": [
    {
     "data": {
      "text/html": [
       "<div>\n",
       "<style scoped>\n",
       "    .dataframe tbody tr th:only-of-type {\n",
       "        vertical-align: middle;\n",
       "    }\n",
       "\n",
       "    .dataframe tbody tr th {\n",
       "        vertical-align: top;\n",
       "    }\n",
       "\n",
       "    .dataframe thead th {\n",
       "        text-align: right;\n",
       "    }\n",
       "</style>\n",
       "<table border=\"1\" class=\"dataframe\">\n",
       "  <thead>\n",
       "    <tr style=\"text-align: right;\">\n",
       "      <th></th>\n",
       "      <th>Id</th>\n",
       "      <th>MSSubClass</th>\n",
       "      <th>MSZoning</th>\n",
       "      <th>LotFrontage</th>\n",
       "      <th>LotArea</th>\n",
       "      <th>Street</th>\n",
       "      <th>Alley</th>\n",
       "      <th>LotShape</th>\n",
       "      <th>LandContour</th>\n",
       "      <th>Utilities</th>\n",
       "      <th>...</th>\n",
       "      <th>PoolArea</th>\n",
       "      <th>PoolQC</th>\n",
       "      <th>Fence</th>\n",
       "      <th>MiscFeature</th>\n",
       "      <th>MiscVal</th>\n",
       "      <th>MoSold</th>\n",
       "      <th>YrSold</th>\n",
       "      <th>SaleType</th>\n",
       "      <th>SaleCondition</th>\n",
       "      <th>SalePrice</th>\n",
       "    </tr>\n",
       "  </thead>\n",
       "  <tbody>\n",
       "    <tr>\n",
       "      <th>0</th>\n",
       "      <td>1</td>\n",
       "      <td>60</td>\n",
       "      <td>RL</td>\n",
       "      <td>65.0</td>\n",
       "      <td>8450</td>\n",
       "      <td>Pave</td>\n",
       "      <td>NaN</td>\n",
       "      <td>Reg</td>\n",
       "      <td>Lvl</td>\n",
       "      <td>AllPub</td>\n",
       "      <td>...</td>\n",
       "      <td>0</td>\n",
       "      <td>NaN</td>\n",
       "      <td>NaN</td>\n",
       "      <td>NaN</td>\n",
       "      <td>0</td>\n",
       "      <td>2</td>\n",
       "      <td>2008</td>\n",
       "      <td>WD</td>\n",
       "      <td>Normal</td>\n",
       "      <td>208500</td>\n",
       "    </tr>\n",
       "    <tr>\n",
       "      <th>1</th>\n",
       "      <td>2</td>\n",
       "      <td>20</td>\n",
       "      <td>RL</td>\n",
       "      <td>80.0</td>\n",
       "      <td>9600</td>\n",
       "      <td>Pave</td>\n",
       "      <td>NaN</td>\n",
       "      <td>Reg</td>\n",
       "      <td>Lvl</td>\n",
       "      <td>AllPub</td>\n",
       "      <td>...</td>\n",
       "      <td>0</td>\n",
       "      <td>NaN</td>\n",
       "      <td>NaN</td>\n",
       "      <td>NaN</td>\n",
       "      <td>0</td>\n",
       "      <td>5</td>\n",
       "      <td>2007</td>\n",
       "      <td>WD</td>\n",
       "      <td>Normal</td>\n",
       "      <td>181500</td>\n",
       "    </tr>\n",
       "    <tr>\n",
       "      <th>2</th>\n",
       "      <td>3</td>\n",
       "      <td>60</td>\n",
       "      <td>RL</td>\n",
       "      <td>68.0</td>\n",
       "      <td>11250</td>\n",
       "      <td>Pave</td>\n",
       "      <td>NaN</td>\n",
       "      <td>IR1</td>\n",
       "      <td>Lvl</td>\n",
       "      <td>AllPub</td>\n",
       "      <td>...</td>\n",
       "      <td>0</td>\n",
       "      <td>NaN</td>\n",
       "      <td>NaN</td>\n",
       "      <td>NaN</td>\n",
       "      <td>0</td>\n",
       "      <td>9</td>\n",
       "      <td>2008</td>\n",
       "      <td>WD</td>\n",
       "      <td>Normal</td>\n",
       "      <td>223500</td>\n",
       "    </tr>\n",
       "    <tr>\n",
       "      <th>3</th>\n",
       "      <td>4</td>\n",
       "      <td>70</td>\n",
       "      <td>RL</td>\n",
       "      <td>60.0</td>\n",
       "      <td>9550</td>\n",
       "      <td>Pave</td>\n",
       "      <td>NaN</td>\n",
       "      <td>IR1</td>\n",
       "      <td>Lvl</td>\n",
       "      <td>AllPub</td>\n",
       "      <td>...</td>\n",
       "      <td>0</td>\n",
       "      <td>NaN</td>\n",
       "      <td>NaN</td>\n",
       "      <td>NaN</td>\n",
       "      <td>0</td>\n",
       "      <td>2</td>\n",
       "      <td>2006</td>\n",
       "      <td>WD</td>\n",
       "      <td>Abnorml</td>\n",
       "      <td>140000</td>\n",
       "    </tr>\n",
       "    <tr>\n",
       "      <th>4</th>\n",
       "      <td>5</td>\n",
       "      <td>60</td>\n",
       "      <td>RL</td>\n",
       "      <td>84.0</td>\n",
       "      <td>14260</td>\n",
       "      <td>Pave</td>\n",
       "      <td>NaN</td>\n",
       "      <td>IR1</td>\n",
       "      <td>Lvl</td>\n",
       "      <td>AllPub</td>\n",
       "      <td>...</td>\n",
       "      <td>0</td>\n",
       "      <td>NaN</td>\n",
       "      <td>NaN</td>\n",
       "      <td>NaN</td>\n",
       "      <td>0</td>\n",
       "      <td>12</td>\n",
       "      <td>2008</td>\n",
       "      <td>WD</td>\n",
       "      <td>Normal</td>\n",
       "      <td>250000</td>\n",
       "    </tr>\n",
       "  </tbody>\n",
       "</table>\n",
       "<p>5 rows × 81 columns</p>\n",
       "</div>"
      ],
      "text/plain": [
       "   Id  MSSubClass MSZoning  LotFrontage  LotArea Street Alley LotShape  \\\n",
       "0   1          60       RL         65.0     8450   Pave   NaN      Reg   \n",
       "1   2          20       RL         80.0     9600   Pave   NaN      Reg   \n",
       "2   3          60       RL         68.0    11250   Pave   NaN      IR1   \n",
       "3   4          70       RL         60.0     9550   Pave   NaN      IR1   \n",
       "4   5          60       RL         84.0    14260   Pave   NaN      IR1   \n",
       "\n",
       "  LandContour Utilities  ... PoolArea PoolQC Fence MiscFeature MiscVal MoSold  \\\n",
       "0         Lvl    AllPub  ...        0    NaN   NaN         NaN       0      2   \n",
       "1         Lvl    AllPub  ...        0    NaN   NaN         NaN       0      5   \n",
       "2         Lvl    AllPub  ...        0    NaN   NaN         NaN       0      9   \n",
       "3         Lvl    AllPub  ...        0    NaN   NaN         NaN       0      2   \n",
       "4         Lvl    AllPub  ...        0    NaN   NaN         NaN       0     12   \n",
       "\n",
       "  YrSold  SaleType  SaleCondition  SalePrice  \n",
       "0   2008        WD         Normal     208500  \n",
       "1   2007        WD         Normal     181500  \n",
       "2   2008        WD         Normal     223500  \n",
       "3   2006        WD        Abnorml     140000  \n",
       "4   2008        WD         Normal     250000  \n",
       "\n",
       "[5 rows x 81 columns]"
      ]
     },
     "execution_count": 3,
     "metadata": {},
     "output_type": "execute_result"
    }
   ],
   "source": [
    "houses_data=pd.read_csv(\"data.csv\")\n",
    "pd.set_option('display.max_colwidth', None)\n",
    "houses_data.head()"
   ]
  },
  {
   "cell_type": "code",
   "execution_count": 4,
   "id": "a0f3d0c0-1ae6-4223-9657-a08d36405139",
   "metadata": {},
   "outputs": [
    {
     "data": {
      "text/html": [
       "<div>\n",
       "<style scoped>\n",
       "    .dataframe tbody tr th:only-of-type {\n",
       "        vertical-align: middle;\n",
       "    }\n",
       "\n",
       "    .dataframe tbody tr th {\n",
       "        vertical-align: top;\n",
       "    }\n",
       "\n",
       "    .dataframe thead th {\n",
       "        text-align: right;\n",
       "    }\n",
       "</style>\n",
       "<table border=\"1\" class=\"dataframe\">\n",
       "  <thead>\n",
       "    <tr style=\"text-align: right;\">\n",
       "      <th></th>\n",
       "      <th>Id</th>\n",
       "      <th>MSSubClass</th>\n",
       "      <th>MSZoning</th>\n",
       "      <th>LotFrontage</th>\n",
       "      <th>LotArea</th>\n",
       "      <th>Street</th>\n",
       "      <th>Alley</th>\n",
       "      <th>LotShape</th>\n",
       "      <th>LandContour</th>\n",
       "      <th>Utilities</th>\n",
       "      <th>...</th>\n",
       "      <th>PoolArea</th>\n",
       "      <th>PoolQC</th>\n",
       "      <th>Fence</th>\n",
       "      <th>MiscFeature</th>\n",
       "      <th>MiscVal</th>\n",
       "      <th>MoSold</th>\n",
       "      <th>YrSold</th>\n",
       "      <th>SaleType</th>\n",
       "      <th>SaleCondition</th>\n",
       "      <th>SalePrice</th>\n",
       "    </tr>\n",
       "  </thead>\n",
       "  <tbody>\n",
       "    <tr>\n",
       "      <th>count</th>\n",
       "      <td>1460.000000</td>\n",
       "      <td>1460.000000</td>\n",
       "      <td>1460</td>\n",
       "      <td>1201.000000</td>\n",
       "      <td>1460.000000</td>\n",
       "      <td>1460</td>\n",
       "      <td>91</td>\n",
       "      <td>1460</td>\n",
       "      <td>1460</td>\n",
       "      <td>1460</td>\n",
       "      <td>...</td>\n",
       "      <td>1460.000000</td>\n",
       "      <td>7</td>\n",
       "      <td>281</td>\n",
       "      <td>54</td>\n",
       "      <td>1460.000000</td>\n",
       "      <td>1460.000000</td>\n",
       "      <td>1460.000000</td>\n",
       "      <td>1460</td>\n",
       "      <td>1460</td>\n",
       "      <td>1460.000000</td>\n",
       "    </tr>\n",
       "    <tr>\n",
       "      <th>unique</th>\n",
       "      <td>NaN</td>\n",
       "      <td>NaN</td>\n",
       "      <td>5</td>\n",
       "      <td>NaN</td>\n",
       "      <td>NaN</td>\n",
       "      <td>2</td>\n",
       "      <td>2</td>\n",
       "      <td>4</td>\n",
       "      <td>4</td>\n",
       "      <td>2</td>\n",
       "      <td>...</td>\n",
       "      <td>NaN</td>\n",
       "      <td>3</td>\n",
       "      <td>4</td>\n",
       "      <td>4</td>\n",
       "      <td>NaN</td>\n",
       "      <td>NaN</td>\n",
       "      <td>NaN</td>\n",
       "      <td>9</td>\n",
       "      <td>6</td>\n",
       "      <td>NaN</td>\n",
       "    </tr>\n",
       "    <tr>\n",
       "      <th>top</th>\n",
       "      <td>NaN</td>\n",
       "      <td>NaN</td>\n",
       "      <td>RL</td>\n",
       "      <td>NaN</td>\n",
       "      <td>NaN</td>\n",
       "      <td>Pave</td>\n",
       "      <td>Grvl</td>\n",
       "      <td>Reg</td>\n",
       "      <td>Lvl</td>\n",
       "      <td>AllPub</td>\n",
       "      <td>...</td>\n",
       "      <td>NaN</td>\n",
       "      <td>Gd</td>\n",
       "      <td>MnPrv</td>\n",
       "      <td>Shed</td>\n",
       "      <td>NaN</td>\n",
       "      <td>NaN</td>\n",
       "      <td>NaN</td>\n",
       "      <td>WD</td>\n",
       "      <td>Normal</td>\n",
       "      <td>NaN</td>\n",
       "    </tr>\n",
       "    <tr>\n",
       "      <th>freq</th>\n",
       "      <td>NaN</td>\n",
       "      <td>NaN</td>\n",
       "      <td>1151</td>\n",
       "      <td>NaN</td>\n",
       "      <td>NaN</td>\n",
       "      <td>1454</td>\n",
       "      <td>50</td>\n",
       "      <td>925</td>\n",
       "      <td>1311</td>\n",
       "      <td>1459</td>\n",
       "      <td>...</td>\n",
       "      <td>NaN</td>\n",
       "      <td>3</td>\n",
       "      <td>157</td>\n",
       "      <td>49</td>\n",
       "      <td>NaN</td>\n",
       "      <td>NaN</td>\n",
       "      <td>NaN</td>\n",
       "      <td>1267</td>\n",
       "      <td>1198</td>\n",
       "      <td>NaN</td>\n",
       "    </tr>\n",
       "    <tr>\n",
       "      <th>mean</th>\n",
       "      <td>730.500000</td>\n",
       "      <td>56.897260</td>\n",
       "      <td>NaN</td>\n",
       "      <td>70.049958</td>\n",
       "      <td>10516.828082</td>\n",
       "      <td>NaN</td>\n",
       "      <td>NaN</td>\n",
       "      <td>NaN</td>\n",
       "      <td>NaN</td>\n",
       "      <td>NaN</td>\n",
       "      <td>...</td>\n",
       "      <td>2.758904</td>\n",
       "      <td>NaN</td>\n",
       "      <td>NaN</td>\n",
       "      <td>NaN</td>\n",
       "      <td>43.489041</td>\n",
       "      <td>6.321918</td>\n",
       "      <td>2007.815753</td>\n",
       "      <td>NaN</td>\n",
       "      <td>NaN</td>\n",
       "      <td>180921.195890</td>\n",
       "    </tr>\n",
       "    <tr>\n",
       "      <th>std</th>\n",
       "      <td>421.610009</td>\n",
       "      <td>42.300571</td>\n",
       "      <td>NaN</td>\n",
       "      <td>24.284752</td>\n",
       "      <td>9981.264932</td>\n",
       "      <td>NaN</td>\n",
       "      <td>NaN</td>\n",
       "      <td>NaN</td>\n",
       "      <td>NaN</td>\n",
       "      <td>NaN</td>\n",
       "      <td>...</td>\n",
       "      <td>40.177307</td>\n",
       "      <td>NaN</td>\n",
       "      <td>NaN</td>\n",
       "      <td>NaN</td>\n",
       "      <td>496.123024</td>\n",
       "      <td>2.703626</td>\n",
       "      <td>1.328095</td>\n",
       "      <td>NaN</td>\n",
       "      <td>NaN</td>\n",
       "      <td>79442.502883</td>\n",
       "    </tr>\n",
       "    <tr>\n",
       "      <th>min</th>\n",
       "      <td>1.000000</td>\n",
       "      <td>20.000000</td>\n",
       "      <td>NaN</td>\n",
       "      <td>21.000000</td>\n",
       "      <td>1300.000000</td>\n",
       "      <td>NaN</td>\n",
       "      <td>NaN</td>\n",
       "      <td>NaN</td>\n",
       "      <td>NaN</td>\n",
       "      <td>NaN</td>\n",
       "      <td>...</td>\n",
       "      <td>0.000000</td>\n",
       "      <td>NaN</td>\n",
       "      <td>NaN</td>\n",
       "      <td>NaN</td>\n",
       "      <td>0.000000</td>\n",
       "      <td>1.000000</td>\n",
       "      <td>2006.000000</td>\n",
       "      <td>NaN</td>\n",
       "      <td>NaN</td>\n",
       "      <td>34900.000000</td>\n",
       "    </tr>\n",
       "    <tr>\n",
       "      <th>25%</th>\n",
       "      <td>365.750000</td>\n",
       "      <td>20.000000</td>\n",
       "      <td>NaN</td>\n",
       "      <td>59.000000</td>\n",
       "      <td>7553.500000</td>\n",
       "      <td>NaN</td>\n",
       "      <td>NaN</td>\n",
       "      <td>NaN</td>\n",
       "      <td>NaN</td>\n",
       "      <td>NaN</td>\n",
       "      <td>...</td>\n",
       "      <td>0.000000</td>\n",
       "      <td>NaN</td>\n",
       "      <td>NaN</td>\n",
       "      <td>NaN</td>\n",
       "      <td>0.000000</td>\n",
       "      <td>5.000000</td>\n",
       "      <td>2007.000000</td>\n",
       "      <td>NaN</td>\n",
       "      <td>NaN</td>\n",
       "      <td>129975.000000</td>\n",
       "    </tr>\n",
       "    <tr>\n",
       "      <th>50%</th>\n",
       "      <td>730.500000</td>\n",
       "      <td>50.000000</td>\n",
       "      <td>NaN</td>\n",
       "      <td>69.000000</td>\n",
       "      <td>9478.500000</td>\n",
       "      <td>NaN</td>\n",
       "      <td>NaN</td>\n",
       "      <td>NaN</td>\n",
       "      <td>NaN</td>\n",
       "      <td>NaN</td>\n",
       "      <td>...</td>\n",
       "      <td>0.000000</td>\n",
       "      <td>NaN</td>\n",
       "      <td>NaN</td>\n",
       "      <td>NaN</td>\n",
       "      <td>0.000000</td>\n",
       "      <td>6.000000</td>\n",
       "      <td>2008.000000</td>\n",
       "      <td>NaN</td>\n",
       "      <td>NaN</td>\n",
       "      <td>163000.000000</td>\n",
       "    </tr>\n",
       "    <tr>\n",
       "      <th>75%</th>\n",
       "      <td>1095.250000</td>\n",
       "      <td>70.000000</td>\n",
       "      <td>NaN</td>\n",
       "      <td>80.000000</td>\n",
       "      <td>11601.500000</td>\n",
       "      <td>NaN</td>\n",
       "      <td>NaN</td>\n",
       "      <td>NaN</td>\n",
       "      <td>NaN</td>\n",
       "      <td>NaN</td>\n",
       "      <td>...</td>\n",
       "      <td>0.000000</td>\n",
       "      <td>NaN</td>\n",
       "      <td>NaN</td>\n",
       "      <td>NaN</td>\n",
       "      <td>0.000000</td>\n",
       "      <td>8.000000</td>\n",
       "      <td>2009.000000</td>\n",
       "      <td>NaN</td>\n",
       "      <td>NaN</td>\n",
       "      <td>214000.000000</td>\n",
       "    </tr>\n",
       "    <tr>\n",
       "      <th>max</th>\n",
       "      <td>1460.000000</td>\n",
       "      <td>190.000000</td>\n",
       "      <td>NaN</td>\n",
       "      <td>313.000000</td>\n",
       "      <td>215245.000000</td>\n",
       "      <td>NaN</td>\n",
       "      <td>NaN</td>\n",
       "      <td>NaN</td>\n",
       "      <td>NaN</td>\n",
       "      <td>NaN</td>\n",
       "      <td>...</td>\n",
       "      <td>738.000000</td>\n",
       "      <td>NaN</td>\n",
       "      <td>NaN</td>\n",
       "      <td>NaN</td>\n",
       "      <td>15500.000000</td>\n",
       "      <td>12.000000</td>\n",
       "      <td>2010.000000</td>\n",
       "      <td>NaN</td>\n",
       "      <td>NaN</td>\n",
       "      <td>755000.000000</td>\n",
       "    </tr>\n",
       "  </tbody>\n",
       "</table>\n",
       "<p>11 rows × 81 columns</p>\n",
       "</div>"
      ],
      "text/plain": [
       "                 Id   MSSubClass MSZoning  LotFrontage        LotArea Street  \\\n",
       "count   1460.000000  1460.000000     1460  1201.000000    1460.000000   1460   \n",
       "unique          NaN          NaN        5          NaN            NaN      2   \n",
       "top             NaN          NaN       RL          NaN            NaN   Pave   \n",
       "freq            NaN          NaN     1151          NaN            NaN   1454   \n",
       "mean     730.500000    56.897260      NaN    70.049958   10516.828082    NaN   \n",
       "std      421.610009    42.300571      NaN    24.284752    9981.264932    NaN   \n",
       "min        1.000000    20.000000      NaN    21.000000    1300.000000    NaN   \n",
       "25%      365.750000    20.000000      NaN    59.000000    7553.500000    NaN   \n",
       "50%      730.500000    50.000000      NaN    69.000000    9478.500000    NaN   \n",
       "75%     1095.250000    70.000000      NaN    80.000000   11601.500000    NaN   \n",
       "max     1460.000000   190.000000      NaN   313.000000  215245.000000    NaN   \n",
       "\n",
       "       Alley LotShape LandContour Utilities  ...     PoolArea PoolQC  Fence  \\\n",
       "count     91     1460        1460      1460  ...  1460.000000      7    281   \n",
       "unique     2        4           4         2  ...          NaN      3      4   \n",
       "top     Grvl      Reg         Lvl    AllPub  ...          NaN     Gd  MnPrv   \n",
       "freq      50      925        1311      1459  ...          NaN      3    157   \n",
       "mean     NaN      NaN         NaN       NaN  ...     2.758904    NaN    NaN   \n",
       "std      NaN      NaN         NaN       NaN  ...    40.177307    NaN    NaN   \n",
       "min      NaN      NaN         NaN       NaN  ...     0.000000    NaN    NaN   \n",
       "25%      NaN      NaN         NaN       NaN  ...     0.000000    NaN    NaN   \n",
       "50%      NaN      NaN         NaN       NaN  ...     0.000000    NaN    NaN   \n",
       "75%      NaN      NaN         NaN       NaN  ...     0.000000    NaN    NaN   \n",
       "max      NaN      NaN         NaN       NaN  ...   738.000000    NaN    NaN   \n",
       "\n",
       "       MiscFeature       MiscVal       MoSold       YrSold  SaleType  \\\n",
       "count           54   1460.000000  1460.000000  1460.000000      1460   \n",
       "unique           4           NaN          NaN          NaN         9   \n",
       "top           Shed           NaN          NaN          NaN        WD   \n",
       "freq            49           NaN          NaN          NaN      1267   \n",
       "mean           NaN     43.489041     6.321918  2007.815753       NaN   \n",
       "std            NaN    496.123024     2.703626     1.328095       NaN   \n",
       "min            NaN      0.000000     1.000000  2006.000000       NaN   \n",
       "25%            NaN      0.000000     5.000000  2007.000000       NaN   \n",
       "50%            NaN      0.000000     6.000000  2008.000000       NaN   \n",
       "75%            NaN      0.000000     8.000000  2009.000000       NaN   \n",
       "max            NaN  15500.000000    12.000000  2010.000000       NaN   \n",
       "\n",
       "        SaleCondition      SalePrice  \n",
       "count            1460    1460.000000  \n",
       "unique              6            NaN  \n",
       "top            Normal            NaN  \n",
       "freq             1198            NaN  \n",
       "mean              NaN  180921.195890  \n",
       "std               NaN   79442.502883  \n",
       "min               NaN   34900.000000  \n",
       "25%               NaN  129975.000000  \n",
       "50%               NaN  163000.000000  \n",
       "75%               NaN  214000.000000  \n",
       "max               NaN  755000.000000  \n",
       "\n",
       "[11 rows x 81 columns]"
      ]
     },
     "execution_count": 4,
     "metadata": {},
     "output_type": "execute_result"
    }
   ],
   "source": [
    "houses_data.describe(include='all')"
   ]
  },
  {
   "cell_type": "code",
   "execution_count": 5,
   "id": "302d474f-bc8f-4066-bcb1-d6986021400e",
   "metadata": {},
   "outputs": [],
   "source": [
    "# Large Missing Values can be Seen"
   ]
  },
  {
   "cell_type": "code",
   "execution_count": 6,
   "id": "71fc90a7-c591-44f2-aa48-f79c3313be01",
   "metadata": {},
   "outputs": [
    {
     "name": "stdout",
     "output_type": "stream",
     "text": [
      "<class 'pandas.core.frame.DataFrame'>\n",
      "RangeIndex: 1460 entries, 0 to 1459\n",
      "Data columns (total 81 columns):\n",
      " #   Column         Non-Null Count  Dtype  \n",
      "---  ------         --------------  -----  \n",
      " 0   Id             1460 non-null   int64  \n",
      " 1   MSSubClass     1460 non-null   int64  \n",
      " 2   MSZoning       1460 non-null   object \n",
      " 3   LotFrontage    1201 non-null   float64\n",
      " 4   LotArea        1460 non-null   int64  \n",
      " 5   Street         1460 non-null   object \n",
      " 6   Alley          91 non-null     object \n",
      " 7   LotShape       1460 non-null   object \n",
      " 8   LandContour    1460 non-null   object \n",
      " 9   Utilities      1460 non-null   object \n",
      " 10  LotConfig      1460 non-null   object \n",
      " 11  LandSlope      1460 non-null   object \n",
      " 12  Neighborhood   1460 non-null   object \n",
      " 13  Condition1     1460 non-null   object \n",
      " 14  Condition2     1460 non-null   object \n",
      " 15  BldgType       1460 non-null   object \n",
      " 16  HouseStyle     1460 non-null   object \n",
      " 17  OverallQual    1460 non-null   int64  \n",
      " 18  OverallCond    1460 non-null   int64  \n",
      " 19  YearBuilt      1460 non-null   int64  \n",
      " 20  YearRemodAdd   1460 non-null   int64  \n",
      " 21  RoofStyle      1460 non-null   object \n",
      " 22  RoofMatl       1460 non-null   object \n",
      " 23  Exterior1st    1460 non-null   object \n",
      " 24  Exterior2nd    1460 non-null   object \n",
      " 25  MasVnrType     588 non-null    object \n",
      " 26  MasVnrArea     1452 non-null   float64\n",
      " 27  ExterQual      1460 non-null   object \n",
      " 28  ExterCond      1460 non-null   object \n",
      " 29  Foundation     1460 non-null   object \n",
      " 30  BsmtQual       1423 non-null   object \n",
      " 31  BsmtCond       1423 non-null   object \n",
      " 32  BsmtExposure   1422 non-null   object \n",
      " 33  BsmtFinType1   1423 non-null   object \n",
      " 34  BsmtFinSF1     1460 non-null   int64  \n",
      " 35  BsmtFinType2   1422 non-null   object \n",
      " 36  BsmtFinSF2     1460 non-null   int64  \n",
      " 37  BsmtUnfSF      1460 non-null   int64  \n",
      " 38  TotalBsmtSF    1460 non-null   int64  \n",
      " 39  Heating        1460 non-null   object \n",
      " 40  HeatingQC      1460 non-null   object \n",
      " 41  CentralAir     1460 non-null   object \n",
      " 42  Electrical     1459 non-null   object \n",
      " 43  1stFlrSF       1460 non-null   int64  \n",
      " 44  2ndFlrSF       1460 non-null   int64  \n",
      " 45  LowQualFinSF   1460 non-null   int64  \n",
      " 46  GrLivArea      1460 non-null   int64  \n",
      " 47  BsmtFullBath   1460 non-null   int64  \n",
      " 48  BsmtHalfBath   1460 non-null   int64  \n",
      " 49  FullBath       1460 non-null   int64  \n",
      " 50  HalfBath       1460 non-null   int64  \n",
      " 51  BedroomAbvGr   1460 non-null   int64  \n",
      " 52  KitchenAbvGr   1460 non-null   int64  \n",
      " 53  KitchenQual    1460 non-null   object \n",
      " 54  TotRmsAbvGrd   1460 non-null   int64  \n",
      " 55  Functional     1460 non-null   object \n",
      " 56  Fireplaces     1460 non-null   int64  \n",
      " 57  FireplaceQu    770 non-null    object \n",
      " 58  GarageType     1379 non-null   object \n",
      " 59  GarageYrBlt    1379 non-null   float64\n",
      " 60  GarageFinish   1379 non-null   object \n",
      " 61  GarageCars     1460 non-null   int64  \n",
      " 62  GarageArea     1460 non-null   int64  \n",
      " 63  GarageQual     1379 non-null   object \n",
      " 64  GarageCond     1379 non-null   object \n",
      " 65  PavedDrive     1460 non-null   object \n",
      " 66  WoodDeckSF     1460 non-null   int64  \n",
      " 67  OpenPorchSF    1460 non-null   int64  \n",
      " 68  EnclosedPorch  1460 non-null   int64  \n",
      " 69  3SsnPorch      1460 non-null   int64  \n",
      " 70  ScreenPorch    1460 non-null   int64  \n",
      " 71  PoolArea       1460 non-null   int64  \n",
      " 72  PoolQC         7 non-null      object \n",
      " 73  Fence          281 non-null    object \n",
      " 74  MiscFeature    54 non-null     object \n",
      " 75  MiscVal        1460 non-null   int64  \n",
      " 76  MoSold         1460 non-null   int64  \n",
      " 77  YrSold         1460 non-null   int64  \n",
      " 78  SaleType       1460 non-null   object \n",
      " 79  SaleCondition  1460 non-null   object \n",
      " 80  SalePrice      1460 non-null   int64  \n",
      "dtypes: float64(3), int64(35), object(43)\n",
      "memory usage: 924.0+ KB\n"
     ]
    }
   ],
   "source": [
    "houses_data.info()"
   ]
  },
  {
   "cell_type": "markdown",
   "id": "30347f95-b38b-4237-b0fa-6fbd1fcee3e0",
   "metadata": {},
   "source": [
    "# 2)Sanity Check"
   ]
  },
  {
   "cell_type": "code",
   "execution_count": 7,
   "id": "028d9895-ef45-47d0-b96b-b6c0718e7e35",
   "metadata": {},
   "outputs": [
    {
     "name": "stdout",
     "output_type": "stream",
     "text": [
      "Data shape: (1460, 81)\n",
      "\n",
      "Missing values per column:\n",
      "LotFrontage      259\n",
      "Alley           1369\n",
      "MasVnrType       872\n",
      "MasVnrArea         8\n",
      "BsmtQual          37\n",
      "BsmtCond          37\n",
      "BsmtExposure      38\n",
      "BsmtFinType1      37\n",
      "BsmtFinType2      38\n",
      "Electrical         1\n",
      "FireplaceQu      690\n",
      "GarageType        81\n",
      "GarageYrBlt       81\n",
      "GarageFinish      81\n",
      "GarageQual        81\n",
      "GarageCond        81\n",
      "PoolQC          1453\n",
      "Fence           1179\n",
      "MiscFeature     1406\n",
      "dtype: int64\n"
     ]
    }
   ],
   "source": [
    "print(\"Data shape:\", houses_data.shape)\n",
    "print(\"\\nMissing values per column:\")\n",
    "missing_values = houses_data.isnull().sum()\n",
    "print(missing_values[missing_values > 0] ) "
   ]
  },
  {
   "cell_type": "markdown",
   "id": "bf4dd314-3e8b-475e-a47e-7958e1762b55",
   "metadata": {},
   "source": [
    "# 3)EDA Visualization"
   ]
  },
  {
   "cell_type": "code",
   "execution_count": 8,
   "id": "80579307-d17a-45bb-b2aa-37a17a9dbe02",
   "metadata": {},
   "outputs": [
    {
     "data": {
      "text/plain": [
       "<Figure size 1200x600 with 0 Axes>"
      ]
     },
     "metadata": {},
     "output_type": "display_data"
    },
    {
     "data": {
      "image/png": "[encoded data removed]",
      "text/plain": [
       "<Figure size 1200x600 with 4 Axes>"
      ]
     },
     "metadata": {},
     "output_type": "display_data"
    }
   ],
   "source": [
    "plt.figure(figsize=(12,6))\n",
    "numeric_cols = houses_data.select_dtypes(include='float64').columns\n",
    "\n",
    "axes = houses_data[numeric_cols].hist(\n",
    "    bins=30,\n",
    "    color='hotpink',\n",
    "    edgecolor='black',\n",
    "    figsize=(12, 6)\n",
    ")\n",
    "custom_labels = {\n",
    "    'LotFrontage': 'Lot Frontage (feet)',\n",
    "    'MasVnrArea': 'Masonry Veneer Area (sq ft)',\n",
    "    'GarageYrBlt': 'Year Garage Was Built'\n",
    "}\n",
    "for ax, col in zip(axes.flatten(), numeric_cols):\n",
    "    xlabel = custom_labels.get(col, col) \n",
    "    ax.set_xlabel(xlabel, color='darkgreen', fontsize=12)\n",
    "    ax.set_ylabel('Frequency', color='darkgreen', fontsize=12)\n",
    "plt.suptitle('Numeric Features Distribution',color='darkgreen',size='16')\n",
    "plt.tight_layout(rect=[0, 0, 1, 0.95])\n",
    "plt.savefig('Numeric_distribution_hist.png')\n",
    "plt.show()"
   ]
  },
  {
   "cell_type": "code",
   "execution_count": 9,
   "id": "090e26b6-2058-46e2-af16-3ae95417e134",
   "metadata": {},
   "outputs": [
    {
     "data": {
      "text/plain": [
       "'Summary:\\nLotFrontage - Most houses have moderate frontage, a few are very large (possible outliers).\\nMasVnrArea  - \\tMajority of homes have little to no masonry veneer.\\nGarageYrBlt  - \\tMany garages built post-2000, and a spread over 1950–2000. Reflects development trends.'"
      ]
     },
     "execution_count": 9,
     "metadata": {},
     "output_type": "execute_result"
    }
   ],
   "source": [
    "'''Summary:\n",
    "LotFrontage - Most houses have moderate frontage, a few are very large (possible outliers).\n",
    "MasVnrArea  - \tMajority of homes have little to no masonry veneer.\n",
    "GarageYrBlt  - \tMany garages built post-2000, and a spread over 1950–2000. Reflects development trends.'''"
   ]
  },
  {
   "cell_type": "code",
   "execution_count": 10,
   "id": "bef807c1-96b9-45d1-8e8f-e15cd16a619b",
   "metadata": {},
   "outputs": [
    {
     "data": {
      "image/png": "[encoded data removed]",
      "text/plain": [
       "<Figure size 1200x600 with 1 Axes>"
      ]
     },
     "metadata": {},
     "output_type": "display_data"
    }
   ],
   "source": [
    "missing = houses_data.isnull().sum()\n",
    "missing = missing[missing > 0].sort_values(ascending=False)\n",
    "\n",
    "plt.figure(figsize=(12, 6))\n",
    "missing.plot(kind='bar', color='hotpink', edgecolor='black')\n",
    "plt.title('Missing Values Count per Column',color='darkgreen',size='16')\n",
    "plt.ylabel('Number of Missing Values',color='darkgreen',size=12)\n",
    "plt.xticks(rotation=45, ha='right',color='darkgreen',size=12)\n",
    "plt.tight_layout()\n",
    "plt.savefig('missing_barplot.png')\n",
    "plt.show()"
   ]
  },
  {
   "cell_type": "code",
   "execution_count": 11,
   "id": "1375245c-ee8f-4512-a24f-1a8e95c7b9c4",
   "metadata": {},
   "outputs": [
    {
     "data": {
      "text/plain": [
       "\" Summary:\\n- 'PoolQC', 'MiscFeature', 'Alley', and 'Fence' have the highest missing values (>1000), likely optional features.\\n- 'FireplaceQu', 'LotFrontage', and 'GarageType' show moderate missingness and need proper imputation.\\n- Columns like 'Electrical' and 'MasVnrArea' have minimal missing data and can be easily filled.\\n- Consider dropping columns with excessive missingness if not critical, and imputing others using domain knowledge.\""
      ]
     },
     "execution_count": 11,
     "metadata": {},
     "output_type": "execute_result"
    }
   ],
   "source": [
    "''' Summary:\n",
    "- 'PoolQC', 'MiscFeature', 'Alley', and 'Fence' have the highest missing values (>1000), likely optional features.\n",
    "- 'FireplaceQu', 'LotFrontage', and 'GarageType' show moderate missingness and need proper imputation.\n",
    "- Columns like 'Electrical' and 'MasVnrArea' have minimal missing data and can be easily filled.\n",
    "- Consider dropping columns with excessive missingness if not critical, and imputing others using domain knowledge.'''"
   ]
  },
  {
   "cell_type": "markdown",
   "id": "b25fd761",
   "metadata": {},
   "source": [
    "# 4)Data Preprocessing"
   ]
  },
  {
   "cell_type": "markdown",
   "id": "01b49f72",
   "metadata": {},
   "source": [
    "### a)Dropping Columns"
   ]
  },
  {
   "cell_type": "code",
   "execution_count": 12,
   "id": "3e5545d5",
   "metadata": {},
   "outputs": [],
   "source": [
    "drop_cols = ['PoolQC', 'MiscFeature', 'Alley', 'Fence']\n",
    "houses_data.drop(columns=drop_cols, inplace=True)"
   ]
  },
  {
   "cell_type": "markdown",
   "id": "7e71dcc6-716a-4711-9d6c-e5da8b1a3a6a",
   "metadata": {},
   "source": [
    "### b)Missing Value Treatment"
   ]
  },
  {
   "cell_type": "code",
   "execution_count": 13,
   "id": "7b2ee64a-613f-4c67-bc90-993bc2cf36a6",
   "metadata": {},
   "outputs": [],
   "source": [
    "num_cols = houses_data.select_dtypes(include=['int64','float64']).columns\n",
    "houses_data.loc[:, num_cols] = houses_data.loc[:, num_cols].fillna(houses_data.loc[:, num_cols].median())"
   ]
  },
  {
   "cell_type": "code",
   "execution_count": 14,
   "id": "c1d20969-c4b5-4b14-9035-438e06abc32f",
   "metadata": {},
   "outputs": [],
   "source": [
    "cat_cols = houses_data.select_dtypes(include=['object']).columns\n",
    "houses_data.loc[:, cat_cols] = houses_data.loc[:, cat_cols].fillna(houses_data.loc[:, cat_cols].mode().iloc[0])"
   ]
  },
  {
   "cell_type": "code",
   "execution_count": 15,
   "id": "8f74b8ae-a225-45b1-b207-db8f92f68072",
   "metadata": {},
   "outputs": [
    {
     "name": "stdout",
     "output_type": "stream",
     "text": [
      "\n",
      "Missing values after treatment: 0\n"
     ]
    }
   ],
   "source": [
    "print(\"\\nMissing values after treatment:\", houses_data.isnull().sum().sum())"
   ]
  },
  {
   "cell_type": "code",
   "execution_count": 16,
   "id": "292e1fa0-4fcb-4e90-b4ac-317cf1d2eeca",
   "metadata": {},
   "outputs": [
    {
     "data": {
      "text/plain": [
       "'Missing Value Treatment:\\n- Numeric columns: filled with median (middle value)\\n- Categorical columns: filled with most frequent value'"
      ]
     },
     "execution_count": 16,
     "metadata": {},
     "output_type": "execute_result"
    }
   ],
   "source": [
    "'''Missing Value Treatment:\n",
    "- Numeric columns: filled with median (middle value)\n",
    "- Categorical columns: filled with most frequent value'''"
   ]
  },
  {
   "cell_type": "markdown",
   "id": "c778b5c5",
   "metadata": {},
   "source": [
    "###       c)Duplicate & Garbage Values"
   ]
  },
  {
   "cell_type": "code",
   "execution_count": 17,
   "id": "944f4190",
   "metadata": {},
   "outputs": [
    {
     "name": "stdout",
     "output_type": "stream",
     "text": [
      "\n",
      "Duplicate rows: 0\n"
     ]
    }
   ],
   "source": [
    "print(\"\\nDuplicate rows:\", houses_data.duplicated().sum())\n",
    "houses_data.drop_duplicates(inplace=True)"
   ]
  },
  {
   "cell_type": "code",
   "execution_count": 18,
   "id": "e356d32f",
   "metadata": {},
   "outputs": [
    {
     "name": "stdout",
     "output_type": "stream",
     "text": [
      "\n",
      "MSZoning unique values: ['RL' 'RM' 'C (all)' 'FV' 'RH']\n",
      "\n",
      "Street unique values: ['Pave' 'Grvl']\n",
      "\n",
      "LotShape unique values: ['Reg' 'IR1' 'IR2' 'IR3']\n",
      "\n",
      "LandContour unique values: ['Lvl' 'Bnk' 'Low' 'HLS']\n",
      "\n",
      "Utilities unique values: ['AllPub' 'NoSeWa']\n",
      "\n",
      "LotConfig unique values: ['Inside' 'FR2' 'Corner' 'CulDSac' 'FR3']\n",
      "\n",
      "LandSlope unique values: ['Gtl' 'Mod' 'Sev']\n",
      "\n",
      "Neighborhood unique values: ['CollgCr' 'Veenker' 'Crawfor' 'NoRidge' 'Mitchel']\n",
      "\n",
      "Condition1 unique values: ['Norm' 'Feedr' 'PosN' 'Artery' 'RRAe']\n",
      "\n",
      "Condition2 unique values: ['Norm' 'Artery' 'RRNn' 'Feedr' 'PosN']\n",
      "\n",
      "BldgType unique values: ['1Fam' '2fmCon' 'Duplex' 'TwnhsE' 'Twnhs']\n",
      "\n",
      "HouseStyle unique values: ['2Story' '1Story' '1.5Fin' '1.5Unf' 'SFoyer']\n",
      "\n",
      "RoofStyle unique values: ['Gable' 'Hip' 'Gambrel' 'Mansard' 'Flat']\n",
      "\n",
      "RoofMatl unique values: ['CompShg' 'WdShngl' 'Metal' 'WdShake' 'Membran']\n",
      "\n",
      "Exterior1st unique values: ['VinylSd' 'MetalSd' 'Wd Sdng' 'HdBoard' 'BrkFace']\n",
      "\n",
      "Exterior2nd unique values: ['VinylSd' 'MetalSd' 'Wd Shng' 'HdBoard' 'Plywood']\n",
      "\n",
      "MasVnrType unique values: ['BrkFace' 'Stone' 'BrkCmn']\n",
      "\n",
      "ExterQual unique values: ['Gd' 'TA' 'Ex' 'Fa']\n",
      "\n",
      "ExterCond unique values: ['TA' 'Gd' 'Fa' 'Po' 'Ex']\n",
      "\n",
      "Foundation unique values: ['PConc' 'CBlock' 'BrkTil' 'Wood' 'Slab']\n",
      "\n",
      "BsmtQual unique values: ['Gd' 'TA' 'Ex' 'Fa']\n",
      "\n",
      "BsmtCond unique values: ['TA' 'Gd' 'Fa' 'Po']\n",
      "\n",
      "BsmtExposure unique values: ['No' 'Gd' 'Mn' 'Av']\n",
      "\n",
      "BsmtFinType1 unique values: ['GLQ' 'ALQ' 'Unf' 'Rec' 'BLQ']\n",
      "\n",
      "BsmtFinType2 unique values: ['Unf' 'BLQ' 'ALQ' 'Rec' 'LwQ']\n",
      "\n",
      "Heating unique values: ['GasA' 'GasW' 'Grav' 'Wall' 'OthW']\n",
      "\n",
      "HeatingQC unique values: ['Ex' 'Gd' 'TA' 'Fa' 'Po']\n",
      "\n",
      "CentralAir unique values: ['Y' 'N']\n",
      "\n",
      "Electrical unique values: ['SBrkr' 'FuseF' 'FuseA' 'FuseP' 'Mix']\n",
      "\n",
      "KitchenQual unique values: ['Gd' 'TA' 'Ex' 'Fa']\n",
      "\n",
      "Functional unique values: ['Typ' 'Min1' 'Maj1' 'Min2' 'Mod']\n",
      "\n",
      "FireplaceQu unique values: ['Gd' 'TA' 'Fa' 'Ex' 'Po']\n",
      "\n",
      "GarageType unique values: ['Attchd' 'Detchd' 'BuiltIn' 'CarPort' 'Basment']\n",
      "\n",
      "GarageFinish unique values: ['RFn' 'Unf' 'Fin']\n",
      "\n",
      "GarageQual unique values: ['TA' 'Fa' 'Gd' 'Ex' 'Po']\n",
      "\n",
      "GarageCond unique values: ['TA' 'Fa' 'Gd' 'Po' 'Ex']\n",
      "\n",
      "PavedDrive unique values: ['Y' 'N' 'P']\n",
      "\n",
      "SaleType unique values: ['WD' 'New' 'COD' 'ConLD' 'ConLI']\n",
      "\n",
      "SaleCondition unique values: ['Normal' 'Abnorml' 'Partial' 'AdjLand' 'Alloca']\n"
     ]
    }
   ],
   "source": [
    "for col in cat_cols:\n",
    "    print(f\"\\n{col} unique values:\", houses_data[col].unique()[:5])"
   ]
  },
  {
   "cell_type": "code",
   "execution_count": 19,
   "id": "36eae021",
   "metadata": {},
   "outputs": [],
   "source": [
    "#Checking Categorial Values for Inconsistencies"
   ]
  },
  {
   "cell_type": "markdown",
   "id": "d0519b60-701e-4cb1-88f3-39f5f7c88178",
   "metadata": {},
   "source": [
    "# 5)Model Building"
   ]
  },
  {
   "cell_type": "markdown",
   "id": "014dcf27-1882-412c-b205-4b39651ffcc4",
   "metadata": {},
   "source": [
    "### a)Feature Engineering"
   ]
  },
  {
   "cell_type": "code",
   "execution_count": 20,
   "id": "1b568c2b-0dfe-45b6-b809-368ada920ed1",
   "metadata": {},
   "outputs": [],
   "source": [
    "# Selecting relevant features and target\n",
    "features = ['OverallQual', 'GrLivArea', 'GarageCars', 'TotalBsmtSF', 'FullBath', 'YearBuilt']\n",
    "target = 'SalePrice'"
   ]
  },
  {
   "cell_type": "code",
   "execution_count": 21,
   "id": "4467fa70-49d9-4486-b2e4-8367fea42df2",
   "metadata": {},
   "outputs": [],
   "source": [
    "X = houses_data[features]\n",
    "y = houses_data[target]"
   ]
  },
  {
   "cell_type": "code",
   "execution_count": 22,
   "id": "99a8753e-648e-4981-a50a-13db48dad2b3",
   "metadata": {},
   "outputs": [],
   "source": [
    "X = pd.get_dummies(X, columns=['OverallQual', 'GarageCars', 'FullBath'], drop_first=True)\n",
    "# Converting categorical features to dummy variables"
   ]
  },
  {
   "cell_type": "code",
   "execution_count": 23,
   "id": "8c7c2308-6bef-4291-aeec-27928b9fa973",
   "metadata": {},
   "outputs": [],
   "source": [
    "scaler = RobustScaler()\n",
    "num_cols = ['GrLivArea', 'TotalBsmtSF', 'YearBuilt']\n",
    "X[num_cols] = scaler.fit_transform(X[num_cols])\n",
    "# Scaling numerical features"
   ]
  },
  {
   "cell_type": "markdown",
   "id": "88ef381d-cf20-4338-a1be-d04a062e177f",
   "metadata": {},
   "source": [
    "### b)Train-Test Split"
   ]
  },
  {
   "cell_type": "code",
   "execution_count": 24,
   "id": "4dd76b41-9341-4c41-8410-c9b7617716a3",
   "metadata": {},
   "outputs": [],
   "source": [
    "X_train, X_test, y_train, y_test = train_test_split(X, y, test_size=0.2, random_state=42)"
   ]
  },
  {
   "cell_type": "markdown",
   "id": "1f44cc3f-65bf-494d-8104-e89ee1298db7",
   "metadata": {},
   "source": [
    "### c)Model Training & Evaluation"
   ]
  },
  {
   "cell_type": "code",
   "execution_count": 25,
   "id": "ef11672d-ace2-4f5a-ba7a-9393418e2e27",
   "metadata": {},
   "outputs": [],
   "source": [
    "models = {\n",
    "    \"Linear Regression\": LinearRegression(),\n",
    "    \"Ridge Regression\": Ridge(alpha=1.0),\n",
    "    \"Lasso Regression\": Lasso(alpha=0.1),\n",
    "    \"Random Forest\": RandomForestRegressor(n_estimators=100, random_state=42),\n",
    "    \"Gradient Boosting\": GradientBoostingRegressor(n_estimators=100, random_state=42),\n",
    "    \"SVR\": SVR(kernel='rbf')\n",
    "}"
   ]
  },
  {
   "cell_type": "code",
   "execution_count": 26,
   "id": "cf4685af-2fda-4ad2-84bf-b489d25bc220",
   "metadata": {},
   "outputs": [
    {
     "name": "stdout",
     "output_type": "stream",
     "text": [
      "\n",
      "\u001b[1mMODEL EVALUATION\u001b[0m\n",
      "==================================================\n",
      "\n",
      "Linear Regression:\n",
      "  CV Mean RMSE: 36534.70\n",
      "  CV Std RMSE: 7070.06\n",
      "  R2 Score: 0.8383\n",
      "\n",
      "Ridge Regression:\n",
      "  CV Mean RMSE: 36454.14\n",
      "  CV Std RMSE: 7274.63\n",
      "  R2 Score: 0.8382\n",
      "\n",
      "Lasso Regression:\n",
      "  CV Mean RMSE: 36534.59\n",
      "  CV Std RMSE: 7070.00\n",
      "  R2 Score: 0.8383\n",
      "\n",
      "Random Forest:\n",
      "  CV Mean RMSE: 35395.87\n",
      "  CV Std RMSE: 6399.91\n",
      "  R2 Score: 0.8889\n",
      "\n",
      "Gradient Boosting:\n",
      "  CV Mean RMSE: 36218.37\n",
      "  CV Std RMSE: 6634.04\n",
      "  R2 Score: 0.8833\n",
      "\n",
      "SVR:\n",
      "  CV Mean RMSE: 78778.98\n",
      "  CV Std RMSE: 5370.04\n",
      "  R2 Score: -0.0233\n"
     ]
    }
   ],
   "source": [
    "model_scores = {}\n",
    "\n",
    "print(\"\\n\\033[1mMODEL EVALUATION\\033[0m\")\n",
    "print(\"=\"*50)\n",
    "\n",
    "for name, model in models.items():\n",
    "    if name == \"Lasso Regression\":\n",
    "        model.set_params(max_iter=10000, alpha=0.01) \n",
    "    \n",
    "    model.fit(X_train, y_train)\n",
    "    \n",
    "    cv_scores = cross_val_score(model, X_train, y_train, cv=5, \n",
    "                               scoring='neg_mean_squared_error')\n",
    "    cv_rmse = np.sqrt(-cv_scores)\n",
    "\n",
    "    model_scores[name] = {\n",
    "        'Model': model,\n",
    "        'CV Mean RMSE': cv_rmse.mean(),\n",
    "        'CV Std RMSE': cv_rmse.std(),\n",
    "        'R2 Score': model.score(X_test, y_test)\n",
    "    }\n",
    "    \n",
    "    print(f\"\\n{name}:\")\n",
    "    print(f\"  CV Mean RMSE: {cv_rmse.mean():.2f}\")\n",
    "    print(f\"  CV Std RMSE: {cv_rmse.std():.2f}\")\n",
    "    print(f\"  R2 Score: {model_scores[name]['R2 Score']:.4f}\")\n",
    "    "
   ]
  },
  {
   "cell_type": "markdown",
   "id": "56143ae6-946d-49ac-84c3-a25d00663d77",
   "metadata": {},
   "source": [
    "### d)Best Model Hypertuning"
   ]
  },
  {
   "cell_type": "code",
   "execution_count": 27,
   "id": "7e579f73-f186-46db-9f8c-8b0682f26b62",
   "metadata": {},
   "outputs": [
    {
     "name": "stdout",
     "output_type": "stream",
     "text": [
      "Fitting 3 folds for each of 108 candidates, totalling 324 fits\n"
     ]
    }
   ],
   "source": [
    "from sklearn.model_selection import GridSearchCV\n",
    "\n",
    "best_model_name = \"Random Forest\"\n",
    "best_model = model_scores[best_model_name]['Model']\n",
    "\n",
    "param_grid = {\n",
    "    'n_estimators': [50, 100, 200],\n",
    "    'max_depth': [None, 10, 20, 30],\n",
    "    'min_samples_split': [2, 5, 10],\n",
    "    'min_samples_leaf': [1, 2, 4]\n",
    "}\n",
    "\n",
    "grid_search = GridSearchCV(\n",
    "    estimator=best_model,\n",
    "    param_grid=param_grid,\n",
    "    cv=3,\n",
    "    scoring='neg_mean_squared_error',\n",
    "    n_jobs=-1,\n",
    "    verbose=1\n",
    ")\n",
    "\n",
    "grid_search.fit(X_train, y_train)\n",
    "\n",
    "tuned_model = grid_search.best_estimator_\n"
   ]
  },
  {
   "cell_type": "markdown",
   "id": "fc7e5e47-5108-4514-93a9-7da74c35387a",
   "metadata": {},
   "source": [
    "### e)Final Model Evaluation"
   ]
  },
  {
   "cell_type": "code",
   "execution_count": 31,
   "id": "a1e7c67c-f9d4-4b0d-9811-878bbddf202a",
   "metadata": {},
   "outputs": [
    {
     "name": "stdout",
     "output_type": "stream",
     "text": [
      "\n",
      "\u001b[1mFINAL MODEL EVALUATION\u001b[0m\n",
      "==================================================\n",
      "\n",
      "Best Model: Random Forest\n",
      "Best Parameters: {'max_depth': None, 'min_samples_leaf': 1, 'min_samples_split': 10, 'n_estimators': 200}\n",
      "Test RMSE: 31639.59\n",
      "Test R2 Score: 0.8695\n"
     ]
    }
   ],
   "source": [
    "print(\"\\n\\033[1mFINAL MODEL EVALUATION\\033[0m\")\n",
    "print(\"=\"*50)\n",
    "\n",
    "# Make predictions\n",
    "y_pred = tuned_model.predict(X_test)\n",
    "\n",
    "# Calculate metrics\n",
    "rmse = np.sqrt(mean_squared_error(y_test, y_pred))\n",
    "r2 = r2_score(y_test, y_pred)\n",
    "\n",
    "print(f\"\\nBest Model: {best_model_name}\")\n",
    "print(f\"Best Parameters: {grid_search.best_params_}\")\n",
    "print(f\"Test RMSE: {rmse:.2f}\")\n",
    "print(f\"Test R2 Score: {r2:.4f}\")"
   ]
  },
  {
   "cell_type": "markdown",
   "id": "e8e128f4-9a0c-4144-9df0-b823720c4cf1",
   "metadata": {},
   "source": [
    "### f)Feature Importance Visualization"
   ]
  },
  {
   "cell_type": "code",
   "execution_count": 32,
   "id": "3299533f-a22f-4c26-8637-af6a756ef97e",
   "metadata": {},
   "outputs": [
    {
     "name": "stdout",
     "output_type": "stream",
     "text": [
      "\n",
      "Feature Importances:\n",
      "           Feature  Importance\n",
      "14    GarageCars_3    0.319837\n",
      "0        GrLivArea    0.314706\n",
      "1      TotalBsmtSF    0.134999\n",
      "2        YearBuilt    0.134694\n",
      "9    OverallQual_8    0.029127\n",
      "13    GarageCars_2    0.013274\n",
      "8    OverallQual_7    0.012521\n",
      "10   OverallQual_9    0.011880\n",
      "6    OverallQual_5    0.008228\n",
      "11  OverallQual_10    0.004583\n",
      "16      FullBath_1    0.003799\n",
      "18      FullBath_3    0.003271\n",
      "7    OverallQual_6    0.003048\n",
      "5    OverallQual_4    0.001916\n",
      "17      FullBath_2    0.001678\n",
      "12    GarageCars_1    0.001307\n",
      "4    OverallQual_3    0.001099\n",
      "15    GarageCars_4    0.000026\n",
      "3    OverallQual_2    0.000007\n"
     ]
    }
   ],
   "source": [
    "if hasattr(tuned_model, 'feature_importances_'):\n",
    "    print(\"\\nFeature Importances:\")\n",
    "    feature_importances = pd.DataFrame({\n",
    "        'Feature': X.columns,\n",
    "        'Importance': tuned_model.feature_importances_\n",
    "    }).sort_values('Importance', ascending=False)\n",
    "    \n",
    "    print(feature_importances)\n"
   ]
  },
  {
   "cell_type": "code",
   "execution_count": 33,
   "id": "e6cd02c2-bf3e-4780-b9c0-5203f6d4b94d",
   "metadata": {},
   "outputs": [
    {
     "data": {
      "image/png": "[encoded data removed]",
      "text/plain": [
       "<Figure size 1000x600 with 1 Axes>"
      ]
     },
     "metadata": {},
     "output_type": "display_data"
    }
   ],
   "source": [
    "plt.figure(figsize=(10, 6))\n",
    "ax=sns.barplot(x='Importance', y='Feature', data=feature_importances,color='hotpink')\n",
    "plt.title('Feature Importance',color='darkgreen')\n",
    "ax.set_xlabel('Importance', color='darkgreen')\n",
    "ax.set_ylabel('Feature', color='darkgreen')\n",
    "plt.tight_layout()\n",
    "plt.savefig('FeatureImportance.png')\n",
    "plt.show()"
   ]
  },
  {
   "cell_type": "code",
   "execution_count": 31,
   "id": "00095184",
   "metadata": {},
   "outputs": [
    {
     "data": {
      "text/plain": [
       "'\\n-Top Features: GarageCars_3, GrLivArea, and TotalBsmtsF are the most influential.\\n-Moderate Impact: YearBuilt, OverallQual_8, and GarageCars_2 also contribute significantly.\\n-Lower Impact: Features like OverallQual_2 and GarageCars_4 have minimal importance.\\n-Range: Importance values span from 0.00 to 0.30, with the highest feature (GarageCars_3) near 0.30.\\n'"
      ]
     },
     "execution_count": 31,
     "metadata": {},
     "output_type": "execute_result"
    }
   ],
   "source": [
    "'''\n",
    "-Top Features: GarageCars_3, GrLivArea, and TotalBsmtsF are the most influential.\n",
    "-Moderate Impact: YearBuilt, OverallQual_8, and GarageCars_2 also contribute significantly.\n",
    "-Lower Impact: Features like OverallQual_2 and GarageCars_4 have minimal importance.\n",
    "-Range: Importance values span from 0.00 to 0.30, with the highest feature (GarageCars_3) near 0.30.\n",
    "'''"
   ]
  },
  {
   "cell_type": "code",
   "execution_count": 34,
   "id": "a8834c09-046c-4083-8b89-fa198b31912c",
   "metadata": {},
   "outputs": [
    {
     "data": {
      "image/png": "[encoded data removed]",
      "text/plain": [
       "<Figure size 1000x600 with 1 Axes>"
      ]
     },
     "metadata": {},
     "output_type": "display_data"
    }
   ],
   "source": [
    "# Residual Plot\n",
    "residuals = y_test - y_pred\n",
    "plt.figure(figsize=(10, 6))\n",
    "sns.scatterplot(x=y_pred, y=residuals,color='hotpink')\n",
    "plt.axhline(y=0, color='g', linestyle='--')\n",
    "plt.xlabel('Predicted Values',color='darkgreen')\n",
    "plt.ylabel('Residuals',color='darkgreen')\n",
    "plt.title('Residual Plot',color='darkgreen')\n",
    "plt.tight_layout()\n",
    "plt.savefig(\"ResidualPlot.png\")\n",
    "plt.show()\n"
   ]
  },
  {
   "cell_type": "code",
   "execution_count": 32,
   "id": "b8b0f26d",
   "metadata": {},
   "outputs": [
    {
     "data": {
      "text/plain": [
       "'\\n-Residual Range: Residuals vary widely, spanning from 100,000 to 500,000.\\n-Residuals at higher predicted values suggest potential heteroscedasticity (uneven variance).\\n-Model Accuracy: High residual magnitudes indicate possible model inaccuracies or outliers.\\n'"
      ]
     },
     "execution_count": 32,
     "metadata": {},
     "output_type": "execute_result"
    }
   ],
   "source": [
    "'''\n",
    "-Residual Range: Residuals vary widely, spanning from 100,000 to 500,000.\n",
    "-Residuals at higher predicted values suggest potential heteroscedasticity (uneven variance).\n",
    "-Model Accuracy: High residual magnitudes indicate possible model inaccuracies or outliers.\n",
    "'''"
   ]
  },
  {
   "cell_type": "markdown",
   "id": "985a2a06-4071-44c3-9009-0e71c7ff649e",
   "metadata": {},
   "source": [
    "### g) Pickling the model and vectorizer"
   ]
  },
  {
   "cell_type": "code",
   "execution_count": 70,
   "id": "fe6d74ac-40bd-41b2-89e6-24f15a4fd64b",
   "metadata": {},
   "outputs": [
    {
     "name": "stdout",
     "output_type": "stream",
     "text": [
      "\n",
      "Model and scaler saved as best_model.pkl and scaler.pkl\n"
     ]
    }
   ],
   "source": [
    "import pickle\n",
    "with open('scaler.pkl', 'wb') as f:\n",
    "    pickle.dump(scaler, f)\n",
    "\n",
    "with open('best_model.pkl', 'wb') as f:\n",
    "    pickle.dump(tuned_model, f)\n",
    "\n",
    "print(\"\\nModel and scaler saved as best_model.pkl and scaler.pkl\")"
   ]
  },
  {
   "cell_type": "code",
   "execution_count": 30,
   "id": "119f60dc-3d03-4b20-9a10-c757298dc2f0",
   "metadata": {},
   "outputs": [
    {
     "data": {
      "text/plain": [
       "\"\\n1) Data Loading:\\n -Loaded the dataset using pandas.\\n -Displayed basic information using .head() and .describe() to understand column types and distributions.\\n\\n2) Sanity Check\\n -Performed initial checks to validate data consistency.\\n -Ensured appropriate data types and checked for basic anomalies.\\n\\n3) EDA Visualization\\n -Used plots (e.g., histograms, bar charts) for exploratory analysis.\\n -Identified distribution patterns and variable relationships.\\n\\n4) Data Preprocessing\\n a) Dropping columns\\n -dropped columns with large missing values\\n\\n b) Missing Value\\n -Detected missing values using .isnull() and visualizations like heatmaps.\\n -Helped determine the scope and treatment of missing data.\\n\\n c) Duplicate & Garbage Values\\n -Removed duplicate records to prevent data redundancy.\\n -Cleaned garbage values or irrelevant data entries.\\n\\n5)Model Building\\n a)Feature engineering\\n -Categorical variables (e.g., 'MSZoning') encoded via DictVectorizer for numerical modeling.  \\n -Numerical features (e.g., 'SalePrice') scaled using RobustScaler to handle outliers.  \\n -Why: Models require numerical input; scaling ensures feature comparability.  \\n\\n b)Model Training\\n -Tested Linear (Ridge, Lasso), Ensemble (RandomForest), and SVM models.  \\n -Metrics: MSE (error magnitude) and R² (variance explained).  \\n -Likely selected RandomForest/GradientBoosting due to their robustness with mixed data types.  \\n -Why: Ensemble methods handle non-linear relationships and feature importance well.  c)Hypermenter Tuning\\n\\n c)Hypermenter Tuning\\n -GridSearchCV to optimize model parameters (e.g., n_estimators for RandomForest).\\n -Goal: Maximize R²/minimize MSE by fine-tuning RandomForest Model complexity and avoiding overfitting. \\n\\n6)Pickling\\n -Steps: Bundle preprocessing (scaling, encoding) and model into a single Pipeline object.  \\n -Goal: Ensure consistent transformations during training/inference. \\n \""
      ]
     },
     "execution_count": 30,
     "metadata": {},
     "output_type": "execute_result"
    }
   ],
   "source": [
    "'''\n",
    "1) Data Loading:\n",
    " -Loaded the dataset using pandas.\n",
    " -Displayed basic information using .head() and .describe() to understand column types and distributions.\n",
    "\n",
    "2) Sanity Check\n",
    " -Performed initial checks to validate data consistency.\n",
    " -Ensured appropriate data types and checked for basic anomalies.\n",
    "\n",
    "3) EDA Visualization\n",
    " -Used plots (e.g., histograms, bar charts) for exploratory analysis.\n",
    " -Identified distribution patterns and variable relationships.\n",
    "\n",
    "4) Data Preprocessing\n",
    " a) Dropping columns\n",
    " -dropped columns with large missing values\n",
    "\n",
    " b) Missing Value\n",
    " -Detected missing values using .isnull() and visualizations like heatmaps.\n",
    " -Helped determine the scope and treatment of missing data.\n",
    "\n",
    " c) Duplicate & Garbage Values\n",
    " -Removed duplicate records to prevent data redundancy.\n",
    " -Cleaned garbage values or irrelevant data entries.\n",
    "\n",
    "5)Model Building\n",
    " a)Feature engineering\n",
    " -Categorical variables (e.g., 'MSZoning') encoded via DictVectorizer for numerical modeling.  \n",
    " -Numerical features (e.g., 'SalePrice') scaled using RobustScaler to handle outliers.  \n",
    " -Why: Models require numerical input; scaling ensures feature comparability.  \n",
    "\n",
    " b)Model Training\n",
    " -Tested Linear (Ridge, Lasso), Ensemble (RandomForest), and SVM models.  \n",
    " -Metrics: MSE (error magnitude) and R² (variance explained).  \n",
    " -Likely selected RandomForest/GradientBoosting due to their robustness with mixed data types.  \n",
    " -Why: Ensemble methods handle non-linear relationships and feature importance well.  c)Hypermenter Tuning\n",
    "\n",
    " c)Hypermenter Tuning\n",
    " -GridSearchCV to optimize model parameters (e.g., n_estimators for RandomForest).\n",
    " -Goal: Maximize R²/minimize MSE by fine-tuning RandomForest Model complexity and avoiding overfitting. \n",
    "\n",
    "6)Pickling\n",
    " -Steps: Bundle preprocessing (scaling, encoding) and model into a single Pipeline object.  \n",
    " -Goal: Ensure consistent transformations during training/inference. \n",
    " '''\n",
    " "
   ]
  },
  {
   "cell_type": "code",
   "execution_count": null,
   "id": "e7c1f742",
   "metadata": {},
   "outputs": [],
   "source": []
  }
 ],
 "metadata": {
  "kernelspec": {
   "display_name": "Python 3",
   "language": "python",
   "name": "python3"
  },
  "language_info": {
   "codemirror_mode": {
    "name": "ipython",
    "version": 3
   },
   "file_extension": ".py",
   "mimetype": "text/x-python",
   "name": "python",
   "nbconvert_exporter": "python",
   "pygments_lexer": "ipython3",
   "version": "3.13.1"
  }
 },
 "nbformat": 4,
 "nbformat_minor": 5
}
